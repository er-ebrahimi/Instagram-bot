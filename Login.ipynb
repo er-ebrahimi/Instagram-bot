{
 "cells": [
  {
   "cell_type": "code",
   "execution_count": 2,
   "metadata": {},
   "outputs": [],
   "source": [
    "from instagrapi import Client\n",
    "import schedule\n",
    "import os\n",
    "import schedule\n",
    "import time\n",
    "import pickle\n",
    "import import_ipynb\n",
    "from User import User"
   ]
  },
  {
   "cell_type": "code",
   "execution_count": 3,
   "metadata": {},
   "outputs": [
    {
     "name": "stdout",
     "output_type": "stream",
     "text": [
      "body_building_gap 5672022222 ['the_fitness.body', 'fitness._world.__']\n",
      "body_building_gap 5672022222 ['the_fitness.body', 'fitness._world.__']\n",
      "1\n"
     ]
    }
   ],
   "source": [
    "users = []\n",
    "def read_file(path: str):\n",
    "    with open(path, 'r') as f:\n",
    "        lines = f.readlines()\n",
    "        for line in lines:\n",
    "            line = line.split(',')\n",
    "            index = line[0].index(':')\n",
    "            username = User(line[0][0:index],line[0][index+1:],line[1:])\n",
    "            print(username.username , username.password , username.resourceUsernameList)\n",
    "            users.append(username)\n",
    "\n",
    "        \n",
    "read_file(\"bot.txt\")\n",
    "print(users[0].username , users[0].password , users[0].resourceUsernameList)\n",
    "print(len(users))"
   ]
  },
  {
   "cell_type": "code",
   "execution_count": 4,
   "metadata": {},
   "outputs": [
    {
     "name": "stderr",
     "output_type": "stream",
     "text": [
      "Status 429: Too many requests\n",
      "Ignore 429: Continue login\n"
     ]
    },
    {
     "name": "stdout",
     "output_type": "stream",
     "text": [
      "login is done for body_building_gap\n"
     ]
    }
   ],
   "source": [
    "for user in users:\n",
    "    user.login()\n",
    "    print(f\"login is done for {user.username}\")"
   ]
  },
  {
   "cell_type": "code",
   "execution_count": 5,
   "metadata": {},
   "outputs": [
    {
     "name": "stdout",
     "output_type": "stream",
     "text": [
      "resourceInfoDic updated\n",
      "resourceInfoDic updated\n",
      "resourceInfoDic is done for body_building_gap\n"
     ]
    }
   ],
   "source": [
    "for user in users:\n",
    "    try:\n",
    "        user.get_resourceInfoDic()\n",
    "        print(f\"resourceInfoDic is done for {user.username}\")\n",
    "    except Exception as e:\n",
    "        print(e , user.username)\n",
    "        continue"
   ]
  },
  {
   "cell_type": "code",
   "execution_count": 9,
   "metadata": {},
   "outputs": [
    {
     "name": "stdout",
     "output_type": "stream",
     "text": [
      "media count is done for body_building_gap\n",
      "361\n",
      "media count is done for body_building_gap\n",
      "379\n"
     ]
    }
   ],
   "source": [
    "test = Client()\n",
    "for user in users:\n",
    "    for info in user._resourceInfoDic:\n",
    "        user._resourceInfoDic[info].media_count = user._resourceInfoDic[info].media_count - 1\n",
    "        print(f\"media count is done for {user.username}\")\n",
    "        print(user._resourceInfoDic[info].media_count) "
   ]
  },
  {
   "cell_type": "code",
   "execution_count": 6,
   "metadata": {},
   "outputs": [
    {
     "name": "stdout",
     "output_type": "stream",
     "text": [
      "{'the_fitness.body': User(pk='51772038719', username='the_fitness.body', full_name='Bodybuilding | Gym | Fitness', is_private=False, profile_pic_url=HttpUrl('https://scontent-zrh1-1.cdninstagram.com/v/t51.2885-19/280667265_396253555550780_4716761074884059395_n.jpg?stp=dst-jpg_s150x150&_nc_ht=scontent-zrh1-1.cdninstagram.com&_nc_cat=1&_nc_ohc=bRPswz0INioAX-f2uCj&edm=AKralEIBAAAA&ccb=7-5&oh=00_AfAPBNqrXvLiOzxIbJ1esxky71NarJ6qnUOq65ZpEjsnyg&oe=641DCBCA&_nc_sid=5e3072', ), profile_pic_url_hd=HttpUrl('https://scontent-zrh1-1.cdninstagram.com/v/t51.2885-19/280667265_396253555550780_4716761074884059395_n.jpg?stp=dst-jpg_s640x640&_nc_ht=scontent-zrh1-1.cdninstagram.com&_nc_cat=1&_nc_ohc=bRPswz0INioAX-f2uCj&edm=AKralEIBAAAA&ccb=7-5&oh=00_AfCf9-dasDuUL5tkwEnkSiTQYlELMhQSib82I-hkYp4LCw&oe=641DCBCA&_nc_sid=5e3072', ), is_verified=False, media_count=362, follower_count=142790, following_count=5098, biography='🏋️\\u200d♂️ | Daily Quality Workout Contents\\n💪 | Helping You Getting Your Best Shape\\n🔔 | Follow For Daily Fitness Contents', external_url=None, account_type=3, is_business=False, public_email='', contact_phone_number='', public_phone_country_code='', public_phone_number='', business_contact_method='UNKNOWN', business_category_name=None, category_name=None, category='Gym/Physical Fitness Center', address_street='', city_id='0', city_name='', latitude=0.0, longitude=0.0, zip='', instagram_location_id='', interop_messaging_user_fbid=None), 'fitness._world.__': User(pk='56861680765', username='fitness._world.__', full_name='fitness world', is_private=False, profile_pic_url=HttpUrl('https://scontent-zrh1-1.cdninstagram.com/v/t51.2885-19/328447938_1042157299953922_270692812923398476_n.jpg?stp=dst-jpg_s150x150&_nc_ht=scontent-zrh1-1.cdninstagram.com&_nc_cat=1&_nc_ohc=Ai6MrHk2NgIAX9RxV6f&edm=AKralEIBAAAA&ccb=7-5&oh=00_AfCduBmSZ5wQgYReq6t_EBa3RW_2HApyLxsQTrxcHsF4BQ&oe=641C8C61&_nc_sid=5e3072', ), profile_pic_url_hd=HttpUrl('https://scontent-zrh1-1.cdninstagram.com/v/t51.2885-19/328447938_1042157299953922_270692812923398476_n.jpg?stp=dst-jpg_s640x640&_nc_ht=scontent-zrh1-1.cdninstagram.com&_nc_cat=1&_nc_ohc=Ai6MrHk2NgIAX9RxV6f&edm=AKralEIBAAAA&ccb=7-5&oh=00_AfBs4f49c2js4czgZWjLuDfRyz1zD7ZPZQGyzieRSq6v9A&oe=641C8C61&_nc_sid=5e3072', ), is_verified=False, media_count=380, follower_count=16412, following_count=718, biography='𝘿𝙢 📩𝙛𝙤𝙧 𝙥𝙖𝙞𝙙 💰𝙥𝙧𝙤𝙢𝙤𝙩𝙞𝙤𝙣 / 𝙘𝙤𝙡𝙡𝙖𝙗𝙤𝙧𝙖𝙩𝙞𝙤𝙣 \\n𝙁𝙤𝙡𝙡𝙤𝙬 🙏🏿 𝙥𝙡𝙚𝙯𝙯 :-@train_with_vidushi\\n𝘽𝙤𝙙𝙮𝙗𝙪𝙞𝙡𝙙𝙞𝙣𝙜 🏋️𝙢𝙤𝙩𝙞𝙫𝙖𝙩𝙞𝙤𝙣 🔥 𝙥𝙖𝙜𝙚 😍\\n𝙛𝙤𝙘𝙪𝙨 👀 𝙤𝙣 𝙮𝙤𝙪𝙧 𝙜𝙤𝙖𝙡𝙨 🎯', external_url=None, account_type=3, is_business=False, public_email='arjunvlog810@gmail.com', contact_phone_number='', public_phone_country_code='', public_phone_number='', business_contact_method='UNKNOWN', business_category_name=None, category_name=None, category='Fitness Model', address_street='', city_id='0', city_name='', latitude=None, longitude=None, zip='', instagram_location_id='', interop_messaging_user_fbid=None)}\n"
     ]
    }
   ],
   "source": [
    "print(users[0]._resourceInfoDic)"
   ]
  },
  {
   "cell_type": "code",
   "execution_count": 10,
   "metadata": {},
   "outputs": [],
   "source": [
    "for user in users:\n",
    "    with open(f\"resources\\{user.username}.pickle\", \"wb\") as file:\n",
    "        pickle.dump(users, file)"
   ]
  }
 ],
 "metadata": {
  "kernelspec": {
   "display_name": "Python 3",
   "language": "python",
   "name": "python3"
  },
  "language_info": {
   "codemirror_mode": {
    "name": "ipython",
    "version": 3
   },
   "file_extension": ".py",
   "mimetype": "text/x-python",
   "name": "python",
   "nbconvert_exporter": "python",
   "pygments_lexer": "ipython3",
   "version": "3.11.1"
  },
  "orig_nbformat": 4
 },
 "nbformat": 4,
 "nbformat_minor": 2
}
