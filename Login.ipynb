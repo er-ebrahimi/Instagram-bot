{
 "cells": [
  {
   "cell_type": "code",
   "execution_count": 21,
   "metadata": {},
   "outputs": [],
   "source": [
    "from instagrapi import Client\n",
    "import schedule\n",
    "import os\n",
    "import schedule\n",
    "import time\n",
    "import pickle\n",
    "from User import User"
   ]
  },
  {
   "attachments": {},
   "cell_type": "markdown",
   "metadata": {},
   "source": [
    "1.At first read from file in user file <br> \n",
    "2.Then start login in all the accounts <br>\n",
    "3.Then get info of all the resources <br>\n",
    "4.Decrease one from all the user for uploading one media later"
   ]
  },
  {
   "cell_type": "code",
   "execution_count": 22,
   "metadata": {},
   "outputs": [],
   "source": [
    "users = []\n",
    "user_in_file = []\n",
    "def read_file(path: str):\n",
    "    with open(path, 'r') as f:\n",
    "        lines = f.readlines()\n",
    "        for line in lines:\n",
    "            line = line.split(',')\n",
    "            line[-1] = line[-1].strip(\"\\n\")\n",
    "            index = line[0].index(':')\n",
    "            username = User(line[0][0:index],line[0][index+1:],line[1:])\n",
    "            print(username.username , username.password , username.resourceUsernameList)\n",
    "            users.append(username)\n",
    "\n",
    "    print(users[0].username , users[0].password , users[0].resourceUsernameList)\n",
    "    print(len(users))\n",
    "        \n"
   ]
  },
  {
   "cell_type": "code",
   "execution_count": 23,
   "metadata": {},
   "outputs": [],
   "source": [
    "def login():\n",
    "    for user in users:\n",
    "        user.login()\n",
    "        print(f\"login is done for {user.username}\")"
   ]
  },
  {
   "cell_type": "code",
   "execution_count": 24,
   "metadata": {},
   "outputs": [],
   "source": [
    "def resourceInfoDic():\n",
    "    \"\"\"_summary_: get information for each resource in resourceUsernameList\n",
    "    \"\"\"\n",
    "    for user in users:\n",
    "        try:\n",
    "            user.get_resourceInfoDic()\n",
    "            print(f\"resourceInfoDic is done for {user.username}\")\n",
    "        except Exception as e:\n",
    "            print(e , user.username)\n",
    "            continue"
   ]
  },
  {
   "cell_type": "code",
   "execution_count": 25,
   "metadata": {},
   "outputs": [],
   "source": [
    "def media_count():\n",
    "    \"\"\"decrease one media count for each user\n",
    "    \"\"\"\n",
    "    for user in users:\n",
    "        for info in user._resourceInfoDic:\n",
    "            user._resourceInfoDic[info].media_count = user._resourceInfoDic[info].media_count - 1\n",
    "            print(f\"media count is done for {user.username}\")\n",
    "            print(user._resourceInfoDic[info].media_count) "
   ]
  },
  {
   "cell_type": "code",
   "execution_count": 26,
   "metadata": {},
   "outputs": [],
   "source": [
    "def write_file(all_users):\n",
    "    for user in all_users:\n",
    "        with open(f\"./resources/{user.username}.pickle\", \"wb\") as file:\n",
    "            pickle.dump(user, file)\n",
    "            print(f\"write_file is done for {user.username}\")"
   ]
  },
  {
   "cell_type": "code",
   "execution_count": 27,
   "metadata": {},
   "outputs": [],
   "source": [
    "def remove_posts(user):\n",
    "    posts = user.client.user_medias(user.client.user_id, 7)\n",
    "    for post in posts:\n",
    "        print(f\"post {post.pk} is going to be deleted\")\n",
    "        user.client.media_delete(post.pk)\n",
    "        print(f\"post {post.pk} deleted\")"
   ]
  },
  {
   "cell_type": "code",
   "execution_count": 28,
   "metadata": {},
   "outputs": [],
   "source": [
    "def removeResource(username: str, user_in_file: list):\n",
    "    \"\"\"delete one of the resources from the resource list of the user\n",
    "\n",
    "    Args:\n",
    "        username (str): username of that resource\n",
    "    \"\"\"\n",
    "    for user in user_in_file:\n",
    "        print(user)\n",
    "        for resource in user.resourceUsernameList:\n",
    "            print(resource)\n",
    "            if resource == username:\n",
    "                user.resourceUsernameList.remove(resource)\n",
    "                print(f\"resource {username} is removed from {user.username}\")\n",
    "                user.get_resourceInfoDic()\n",
    "                break"
   ]
  },
  {
   "attachments": {},
   "cell_type": "markdown",
   "metadata": {},
   "source": [
    "Read pickle file"
   ]
  },
  {
   "cell_type": "code",
   "execution_count": 29,
   "metadata": {},
   "outputs": [],
   "source": [
    "def read_pickle(resources: str=\"resources\"):\n",
    "    \"\"\"_summary_: read pickle files and return a list of users\n",
    "\n",
    "    Returns:\n",
    "        resources: name of file that contains all the users\n",
    "    \"\"\"\n",
    "    print(\"in resources files:\")\n",
    "    for file in os.listdir(\"resources\"):\n",
    "        resource_path = os.path.join(\"resources\", file)\n",
    "        with open(resource_path, \"rb\") as file:\n",
    "            users_new = pickle.load(file)\n",
    "            print(file)\n",
    "            user_in_file.append(users_new[-1])\n",
    "            print(f\"adding {users_new[-1].username} to user_in_file\")\n",
    "    return user_in_file"
   ]
  },
  {
   "cell_type": "code",
   "execution_count": 30,
   "metadata": {},
   "outputs": [
    {
     "name": "stdout",
     "output_type": "stream",
     "text": [
      "0. read file then login then get info then decrease media count then write file\n",
      "1. remove resource\n",
      "2. remove posts\n",
      "3. exit\n",
      "in resources files:\n",
      "<_io.BufferedReader name='resources\\\\body_building_gap.pickle'>\n",
      "adding ifilm_fanatic to user_in_file\n",
      "<_io.BufferedReader name='resources\\\\ifilm_fanatic.pickle'>\n",
      "adding ifilm_fanatic to user_in_file\n",
      "<User.User object at 0x0000021AED801510>\n",
      "cinema_freak\n",
      "resource cinema_freak is removed from ifilm_fanatic\n",
      "<User.User object at 0x0000021AED8D68D0>\n",
      "cinema_freak\n",
      "resource cinema_freak is removed from ifilm_fanatic\n",
      "0. read file then login then get info then decrease media count then write file\n",
      "1. remove resource\n",
      "2. remove posts\n",
      "3. exit\n"
     ]
    }
   ],
   "source": [
    "if __name__ == \"__main__\":\n",
    "    while True:\n",
    "        print(\"0. read file then login then get info then decrease media count then write file\")\n",
    "        print(\"1. remove resource\")\n",
    "        print(\"2. remove posts\")\n",
    "        print(\"3. rewrite file\")\n",
    "        print(\"4. print info\")\n",
    "        print(\"5. exit\")\n",
    "        option = input(\"Enter the option: \")\n",
    "        if option == \"0\":\n",
    "            file = input(\"Enter the file name: \")\n",
    "            read_file(f\"./users/{file}.txt\")\n",
    "            login()\n",
    "            resourceInfoDic()\n",
    "            media_count()\n",
    "            write_file(users)\n",
    "        elif option == \"1\":\n",
    "            username = input(\"Enter the username: \")\n",
    "            user_in_file = read_pickle()\n",
    "            removeResource(username, user_in_file)\n",
    "        elif option == \"2\":\n",
    "            username = input(\"Enter the username: \")\n",
    "            for user in users:\n",
    "                if user.username == username:\n",
    "                    remove_posts(user)\n",
    "        elif option == \"3`\":\n",
    "            ask = input(\"Do you want to Enter the file name: \")\n",
    "            if ask == \"yes\":\n",
    "                file = input(\"Enter the file name: \")\n",
    "                read_file(f\"./users/{file}.txt\")\n",
    "            else:\n",
    "                read_pickle()\n",
    "            write_file(user_in_file)\n",
    "        elif option == \"4\":\n",
    "            for user in user_in_file:\n",
    "                print(user.username)\n",
    "                for info in user._resourceInfoDic:\n",
    "                    print(info)\n",
    "                    print(user._resourceInfoDic[info].media_count)\n",
    "        elif option == \"5\":\n",
    "            break"
   ]
  }
 ],
 "metadata": {
  "kernelspec": {
   "display_name": "Python 3",
   "language": "python",
   "name": "python3"
  },
  "language_info": {
   "codemirror_mode": {
    "name": "ipython",
    "version": 3
   },
   "file_extension": ".py",
   "mimetype": "text/x-python",
   "name": "python",
   "nbconvert_exporter": "python",
   "pygments_lexer": "ipython3",
   "version": "3.11.1"
  },
  "orig_nbformat": 4,
  "vscode": {
   "interpreter": {
    "hash": "a7229a700acc272fe517be910934deac0870d509b3ed4d63f23f2f5b07eaf4d4"
   }
  }
 },
 "nbformat": 4,
 "nbformat_minor": 2
}
