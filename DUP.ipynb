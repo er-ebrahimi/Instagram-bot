{
 "cells": [
  {
   "cell_type": "code",
   "execution_count": 13,
   "metadata": {},
   "outputs": [],
   "source": [
    "from instagrapi import Client\n",
    "import schedule\n",
    "import os\n",
    "import schedule\n",
    "import time\n",
    "import pickle\n",
    "import import_ipynb\n",
    "from User import User\n",
    "path = 'C:\\\\Users\\\\Erfun\\\\OneDrive\\\\Documents\\\\Projects\\\\bot\\\\Instagram-bot\\\\tmp'\n"
   ]
  },
  {
   "attachments": {},
   "cell_type": "markdown",
   "metadata": {},
   "source": [
    "Read users and acounts"
   ]
  },
  {
   "cell_type": "code",
   "execution_count": 14,
   "metadata": {},
   "outputs": [
    {
     "name": "stdout",
     "output_type": "stream",
     "text": [
      "adding body_building_gap to user_in_file\n"
     ]
    }
   ],
   "source": [
    "user_in_file = []\n",
    "for file in os.listdir(\"resources\"):\n",
    "    with open(\"resources/\" + file, \"rb\") as file:\n",
    "        users_new = pickle.load(file)\n",
    "        for user in users_new:\n",
    "            if user.username not in user_in_file:\n",
    "                user_in_file.append(users_new[0])\n",
    "                print(f\"adding {user.username} to user_in_file\")"
   ]
  },
  {
   "cell_type": "code",
   "execution_count": 15,
   "metadata": {},
   "outputs": [
    {
     "name": "stdout",
     "output_type": "stream",
     "text": [
      "{'the_fitness.body': User(pk='51772038719', username='the_fitness.body', full_name='Bodybuilding | Gym | Fitness', is_private=False, profile_pic_url=HttpUrl('https://scontent-zrh1-1.cdninstagram.com/v/t51.2885-19/280667265_396253555550780_4716761074884059395_n.jpg?stp=dst-jpg_s150x150&_nc_ht=scontent-zrh1-1.cdninstagram.com&_nc_cat=1&_nc_ohc=bRPswz0INioAX-f2uCj&edm=AKralEIBAAAA&ccb=7-5&oh=00_AfAPBNqrXvLiOzxIbJ1esxky71NarJ6qnUOq65ZpEjsnyg&oe=641DCBCA&_nc_sid=5e3072', ), profile_pic_url_hd=HttpUrl('https://scontent-zrh1-1.cdninstagram.com/v/t51.2885-19/280667265_396253555550780_4716761074884059395_n.jpg?stp=dst-jpg_s640x640&_nc_ht=scontent-zrh1-1.cdninstagram.com&_nc_cat=1&_nc_ohc=bRPswz0INioAX-f2uCj&edm=AKralEIBAAAA&ccb=7-5&oh=00_AfCf9-dasDuUL5tkwEnkSiTQYlELMhQSib82I-hkYp4LCw&oe=641DCBCA&_nc_sid=5e3072', ), is_verified=False, media_count=361, follower_count=142790, following_count=5098, biography='🏋️\\u200d♂️ | Daily Quality Workout Contents\\n💪 | Helping You Getting Your Best Shape\\n🔔 | Follow For Daily Fitness Contents', external_url=None, account_type=3, is_business=False, public_email='', contact_phone_number='', public_phone_country_code='', public_phone_number='', business_contact_method='UNKNOWN', business_category_name=None, category_name=None, category='Gym/Physical Fitness Center', address_street='', city_id='0', city_name='', latitude=0.0, longitude=0.0, zip='', instagram_location_id='', interop_messaging_user_fbid=None), 'fitness._world.__': User(pk='56861680765', username='fitness._world.__', full_name='fitness world', is_private=False, profile_pic_url=HttpUrl('https://scontent-zrh1-1.cdninstagram.com/v/t51.2885-19/328447938_1042157299953922_270692812923398476_n.jpg?stp=dst-jpg_s150x150&_nc_ht=scontent-zrh1-1.cdninstagram.com&_nc_cat=1&_nc_ohc=Ai6MrHk2NgIAX9RxV6f&edm=AKralEIBAAAA&ccb=7-5&oh=00_AfCduBmSZ5wQgYReq6t_EBa3RW_2HApyLxsQTrxcHsF4BQ&oe=641C8C61&_nc_sid=5e3072', ), profile_pic_url_hd=HttpUrl('https://scontent-zrh1-1.cdninstagram.com/v/t51.2885-19/328447938_1042157299953922_270692812923398476_n.jpg?stp=dst-jpg_s640x640&_nc_ht=scontent-zrh1-1.cdninstagram.com&_nc_cat=1&_nc_ohc=Ai6MrHk2NgIAX9RxV6f&edm=AKralEIBAAAA&ccb=7-5&oh=00_AfBs4f49c2js4czgZWjLuDfRyz1zD7ZPZQGyzieRSq6v9A&oe=641C8C61&_nc_sid=5e3072', ), is_verified=False, media_count=379, follower_count=16412, following_count=718, biography='𝘿𝙢 📩𝙛𝙤𝙧 𝙥𝙖𝙞𝙙 💰𝙥𝙧𝙤𝙢𝙤𝙩𝙞𝙤𝙣 / 𝙘𝙤𝙡𝙡𝙖𝙗𝙤𝙧𝙖𝙩𝙞𝙤𝙣 \\n𝙁𝙤𝙡𝙡𝙤𝙬 🙏🏿 𝙥𝙡𝙚𝙯𝙯 :-@train_with_vidushi\\n𝘽𝙤𝙙𝙮𝙗𝙪𝙞𝙡𝙙𝙞𝙣𝙜 🏋️𝙢𝙤𝙩𝙞𝙫𝙖𝙩𝙞𝙤𝙣 🔥 𝙥𝙖𝙜𝙚 😍\\n𝙛𝙤𝙘𝙪𝙨 👀 𝙤𝙣 𝙮𝙤𝙪𝙧 𝙜𝙤𝙖𝙡𝙨 🎯', external_url=None, account_type=3, is_business=False, public_email='arjunvlog810@gmail.com', contact_phone_number='', public_phone_country_code='', public_phone_number='', business_contact_method='UNKNOWN', business_category_name=None, category_name=None, category='Fitness Model', address_street='', city_id='0', city_name='', latitude=None, longitude=None, zip='', instagram_location_id='', interop_messaging_user_fbid=None)}\n"
     ]
    }
   ],
   "source": [
    "print(user_in_file[0]._resourceInfoDic)"
   ]
  },
  {
   "attachments": {},
   "cell_type": "markdown",
   "metadata": {},
   "source": [
    "Test client"
   ]
  },
  {
   "cell_type": "code",
   "execution_count": 16,
   "metadata": {},
   "outputs": [
    {
     "name": "stdout",
     "output_type": "stream",
     "text": [
      "pk='51772038719' username='the_fitness.body' full_name='Bodybuilding | Gym | Fitness' is_private=False profile_pic_url=HttpUrl('https://scontent-ams2-1.cdninstagram.com/v/t51.2885-19/280667265_396253555550780_4716761074884059395_n.jpg?stp=dst-jpg_s150x150&_nc_ht=scontent-ams2-1.cdninstagram.com&_nc_cat=1&_nc_ohc=EdYks7LuU1UAX9gDPEr&edm=AKralEIBAAAA&ccb=7-5&oh=00_AfDCQVbU5jofNIKNNm5LERHmZvXaezYBFviu_dla367s_Q&oe=6429A94A&_nc_sid=5e3072', ) profile_pic_url_hd=HttpUrl('https://scontent-ams2-1.cdninstagram.com/v/t51.2885-19/280667265_396253555550780_4716761074884059395_n.jpg?stp=dst-jpg_s640x640&_nc_ht=scontent-ams2-1.cdninstagram.com&_nc_cat=1&_nc_ohc=EdYks7LuU1UAX9gDPEr&edm=AKralEIBAAAA&ccb=7-5&oh=00_AfDCKUTVeXpSwcaWi0OKExI8IfAWIrALNZr-H9UtRMoGBQ&oe=6429A94A&_nc_sid=5e3072', ) is_verified=False media_count=371 follower_count=151791 following_count=5090 biography='🏋️\\u200d♂️ | Daily Quality Workout Contents\\n💪 | Helping You Getting Your Best Shape\\n🔔 | Follow For Daily Fitness Contents' external_url=None account_type=3 is_business=False public_email='' contact_phone_number='' public_phone_country_code='' public_phone_number='' business_contact_method='UNKNOWN' business_category_name=None category_name=None category='Gym/Physical Fitness Center' address_street='' city_id='0' city_name='' latitude=0.0 longitude=0.0 zip='' instagram_location_id='' interop_messaging_user_fbid=None\n"
     ]
    }
   ],
   "source": [
    "print(user_in_file[0].client.user_info_by_username(\"the_fitness.body\"))"
   ]
  },
  {
   "cell_type": "code",
   "execution_count": 17,
   "metadata": {},
   "outputs": [],
   "source": [
    "\n",
    "def remove_file(path: str):\n",
    "    if type(path) == list:\n",
    "        for p in path:\n",
    "            print(f\"removing file {p}\")\n",
    "            os.remove(p)\n",
    "            print('file removed')\n",
    "    else:\n",
    "        print(f\"removing file {path}\")\n",
    "        os.remove(path)\n",
    "        print('file removed')"
   ]
  },
  {
   "cell_type": "code",
   "execution_count": 18,
   "metadata": {},
   "outputs": [],
   "source": [
    "def remove_all():\n",
    "    try:\n",
    "        for i in os.listdir(path):\n",
    "            os.remove(path + '\\\\' + i)\n",
    "            print(f\"removed {i}\")\n",
    "    except Exception as e:\n",
    "        print(e)"
   ]
  },
  {
   "cell_type": "code",
   "execution_count": 19,
   "metadata": {},
   "outputs": [],
   "source": [
    "def change_comment(comment:str,user:User, resUsername:Client):\n",
    "    print(f\"changing comment {comment} for {user.username} from {resUsername.username}\")\n",
    "    if '@' in comment:\n",
    "        comment = comment.replace(resUsername.username, user.username)\n",
    "        print(f\"comment changed to {comment}\")\n",
    "    else:\n",
    "        print(f\"comment not changed\")\n",
    "    return comment\n"
   ]
  },
  {
   "cell_type": "code",
   "execution_count": 20,
   "metadata": {},
   "outputs": [],
   "source": [
    "def upload_post(posts: dict, path: str, cl, media_list: list,new_info):\n",
    "    try:\n",
    "        for i,media in enumerate( media_list):\n",
    "            if media.media_type == 1 :\n",
    "                print(f\"photo uploading in path {posts[media.pk]}\")\n",
    "                cl.photo_upload(path=posts[media.pk],caption= change_comment(media.caption_text,cl,new_info))\n",
    "                print(\"photo uploaded\")\n",
    "\n",
    "            elif media.media_type == 2 and media.product_type == 'feed':\n",
    "                print(f\"media uploading in path {posts[media.pk]}\")\n",
    "                cl.video_upload(path=posts[media.pk],caption= change_comment(media.caption_text,cl,new_info))\n",
    "                print(\"video uploaded\")               \n",
    "\n",
    "            elif media.media_type == 2 and media.product_type == 'igtv':\n",
    "                print(f\"igtv uploading in path {posts[media.pk]}\")\n",
    "                cl.igtv_upload( path=posts[media.pk],caption= change_comment(media.caption_text,cl,new_info))\n",
    "                print(\"igtv uploaded\")\n",
    "\n",
    "            elif media.media_type == 2 and media.product_type == 'clips':\n",
    "                print(f\"clip uploading in path {posts[media.pk]}\")\n",
    "                cl.clip_upload( path=posts[media.pk],caption= change_comment(media.caption_text,cl,new_info))\n",
    "                print(\"clip uploaded\")\n",
    "\n",
    "            elif media.media_type == 8 :\n",
    "                cl.album_upload( paths=posts[media.pk],caption= change_comment(media.caption_text,cl,new_info))\n",
    "                print(\"album uploaded\")\n",
    "\n",
    "            else:\n",
    "                print(\"couldn't find the type of media\")\n",
    "    except Exception as e:\n",
    "        print(f'Exception occuerd: {e}')\n",
    "        ques = input('Do you want to start uploading again:(Y/N) ')\n",
    "        if ques == 'Y' or ques == 'y':\n",
    "            upload_post(posts, path, cl, media_list,new_info)\n",
    "        elif ques == 'N' or ques == 'n':\n",
    "            pass\n",
    "    print('finished')\n",
    "    # print('start removing files')\n",
    "    # for i in media_list:\n",
    "    #     remove_file(posts[i.pk])\n",
    "    # print('files removed')\n",
    "    media_list.clear()\n",
    "    print('media list cleared')\n",
    "    posts.clear()\n",
    "    print('posts cleared')\n"
   ]
  },
  {
   "cell_type": "code",
   "execution_count": 21,
   "metadata": {},
   "outputs": [],
   "source": [
    "def download_post(cl, new_info, path, amount ,media_list = {}):\n",
    "    try:\n",
    "        posts = {}\n",
    "        if media_list == {}:\n",
    "            media_list = cl.user_medias(new_info.pk ,amount)\n",
    "        len_media = len(media_list)\n",
    "        print(f'media list catched its size is {len(media_list)}')\n",
    "        for media in media_list:\n",
    "            print(f'media.pk is {media.pk}')\n",
    "            if media.media_type == 1 :\n",
    "                posts[media.pk]=cl.photo_download(media.pk, folder=path)\n",
    "                print(\"photo downloaded\")\n",
    "            elif media.media_type == 2 and media.product_type == 'feed':\n",
    "                posts[media.pk]=cl.video_download(media.pk, folder=path)\n",
    "                print(\"video downloaded\")\n",
    "            elif media.media_type == 2 and media.product_type == 'igtv':\n",
    "                posts[media.pk]=cl.igtv_download(media.pk, folder=path)\n",
    "                print(\"igtv downloaded\")\n",
    "            elif media.media_type == 2 and media.product_type == 'clips':\n",
    "                posts[media.pk]=cl.clip_download(media.pk, folder=path)\n",
    "                print(\"clip downloaded\")\n",
    "            elif media.media_type == 8 :\n",
    "                posts[media.pk]=cl.album_download(media.pk, folder=path)\n",
    "                print(\"album downloaded\")\n",
    "            else:\n",
    "                print(\"couldn't find the type of media\")\n",
    "            len_media -=1\n",
    "            print(f\"one media finished and {len_media} is left\")\n",
    "    except Exception as e:\n",
    "        print(f'Exception occuerd: {e}')\n",
    "        ques = input('Do you want to download again or start uploading:(Y/N) ')\n",
    "        if ques == 'Y' or ques == 'y':\n",
    "            download_post(cl, new_info.pk, path,amount, media_list)\n",
    "        elif ques == 'N' or ques == 'n':\n",
    "            pass\n",
    "    upload_post(posts, path, cl, media_list,new_info)\n",
    "    "
   ]
  },
  {
   "cell_type": "code",
   "execution_count": 22,
   "metadata": {},
   "outputs": [],
   "source": [
    "def rewrite(users_new):\n",
    "    for user in users_new:\n",
    "        with open(f\"resources\\{user.username}.pickle\", \"wb\") as file:\n",
    "            print(f\"rewriting {user.username}.pickle\")\n",
    "            pickle.dump(users_new, file)\n",
    "            print(f\"{user.username}.pickle rewritten\")"
   ]
  },
  {
   "cell_type": "code",
   "execution_count": 23,
   "metadata": {},
   "outputs": [],
   "source": [
    "def run():\n",
    "    for user in users_new:\n",
    "        for resource in user._resourceInfoDic:\n",
    "            new_info = user.client.user_info_by_username(resource)\n",
    "            if new_info.media_count  != user._resourceInfoDic[resource].media_count:\n",
    "                print(f\"{resource} has new media\")\n",
    "                download_post(user.client, new_info, path, new_info.media_count - user._resourceInfoDic[resource].media_count)\n",
    "                user._resourceInfoDic[resource] = new_info\n",
    "                print(f\"{resource} updated\")\n",
    "            else:\n",
    "                print(f\"{resource} has no new media\")\n",
    "                print(f\"amount of media is {new_info.media_count}\")\n",
    "    rewrite(users_new)\n",
    "    remove_all()"
   ]
  },
  {
   "cell_type": "code",
   "execution_count": 24,
   "metadata": {},
   "outputs": [
    {
     "name": "stdout",
     "output_type": "stream",
     "text": [
      "the_fitness.body has new media\n"
     ]
    },
    {
     "ename": "KeyboardInterrupt",
     "evalue": "",
     "output_type": "error",
     "traceback": [
      "\u001b[1;31m---------------------------------------------------------------------------\u001b[0m",
      "\u001b[1;31mKeyboardInterrupt\u001b[0m                         Traceback (most recent call last)",
      "Cell \u001b[1;32mIn[24], line 1\u001b[0m\n\u001b[1;32m----> 1\u001b[0m run()\n\u001b[0;32m      2\u001b[0m schedule\u001b[39m.\u001b[39mevery()\u001b[39m.\u001b[39mday\u001b[39m.\u001b[39mat(\u001b[39m\"\u001b[39m\u001b[39m01:30\u001b[39m\u001b[39m\"\u001b[39m)\u001b[39m.\u001b[39mdo(run)\n\u001b[0;32m      3\u001b[0m \u001b[39m# Run the scheduled functions\u001b[39;00m\n",
      "Cell \u001b[1;32mIn[23], line 7\u001b[0m, in \u001b[0;36mrun\u001b[1;34m()\u001b[0m\n\u001b[0;32m      5\u001b[0m \u001b[39mif\u001b[39;00m new_info\u001b[39m.\u001b[39mmedia_count  \u001b[39m!=\u001b[39m user\u001b[39m.\u001b[39m_resourceInfoDic[resource]\u001b[39m.\u001b[39mmedia_count:\n\u001b[0;32m      6\u001b[0m     \u001b[39mprint\u001b[39m(\u001b[39mf\u001b[39m\u001b[39m\"\u001b[39m\u001b[39m{\u001b[39;00mresource\u001b[39m}\u001b[39;00m\u001b[39m has new media\u001b[39m\u001b[39m\"\u001b[39m)\n\u001b[1;32m----> 7\u001b[0m     download_post(user\u001b[39m.\u001b[39;49mclient, new_info, path, new_info\u001b[39m.\u001b[39;49mmedia_count \u001b[39m-\u001b[39;49m user\u001b[39m.\u001b[39;49m_resourceInfoDic[resource]\u001b[39m.\u001b[39;49mmedia_count)\n\u001b[0;32m      8\u001b[0m     user\u001b[39m.\u001b[39m_resourceInfoDic[resource] \u001b[39m=\u001b[39m new_info\n\u001b[0;32m      9\u001b[0m     \u001b[39mprint\u001b[39m(\u001b[39mf\u001b[39m\u001b[39m\"\u001b[39m\u001b[39m{\u001b[39;00mresource\u001b[39m}\u001b[39;00m\u001b[39m updated\u001b[39m\u001b[39m\"\u001b[39m)\n",
      "Cell \u001b[1;32mIn[21], line 5\u001b[0m, in \u001b[0;36mdownload_post\u001b[1;34m(cl, new_info, path, amount, media_list)\u001b[0m\n\u001b[0;32m      3\u001b[0m posts \u001b[39m=\u001b[39m {}\n\u001b[0;32m      4\u001b[0m \u001b[39mif\u001b[39;00m media_list \u001b[39m==\u001b[39m {}:\n\u001b[1;32m----> 5\u001b[0m     media_list \u001b[39m=\u001b[39m cl\u001b[39m.\u001b[39;49muser_medias(new_info\u001b[39m.\u001b[39;49mpk ,amount)\n\u001b[0;32m      6\u001b[0m len_media \u001b[39m=\u001b[39m \u001b[39mlen\u001b[39m(media_list)\n\u001b[0;32m      7\u001b[0m \u001b[39mprint\u001b[39m(\u001b[39mf\u001b[39m\u001b[39m'\u001b[39m\u001b[39mmedia list catched its size is \u001b[39m\u001b[39m{\u001b[39;00m\u001b[39mlen\u001b[39m(media_list)\u001b[39m}\u001b[39;00m\u001b[39m'\u001b[39m)\n",
      "File \u001b[1;32mc:\\Users\\Erfun\\AppData\\Local\\Programs\\Python\\Python311\\Lib\\site-packages\\instagrapi\\mixins\\media.py:682\u001b[0m, in \u001b[0;36mMediaMixin.user_medias\u001b[1;34m(self, user_id, amount, sleep)\u001b[0m\n\u001b[0;32m    680\u001b[0m \u001b[39mtry\u001b[39;00m:\n\u001b[0;32m    681\u001b[0m     \u001b[39mtry\u001b[39;00m:\n\u001b[1;32m--> 682\u001b[0m         medias \u001b[39m=\u001b[39m \u001b[39mself\u001b[39;49m\u001b[39m.\u001b[39;49muser_medias_gql(user_id, amount, sleep)\n\u001b[0;32m    683\u001b[0m     \u001b[39mexcept\u001b[39;00m ClientLoginRequired \u001b[39mas\u001b[39;00m e:\n\u001b[0;32m    684\u001b[0m         \u001b[39mif\u001b[39;00m \u001b[39mnot\u001b[39;00m \u001b[39mself\u001b[39m\u001b[39m.\u001b[39minject_sessionid_to_public():\n",
      "File \u001b[1;32mc:\\Users\\Erfun\\AppData\\Local\\Programs\\Python\\Python311\\Lib\\site-packages\\instagrapi\\mixins\\media.py:519\u001b[0m, in \u001b[0;36mMediaMixin.user_medias_gql\u001b[1;34m(self, user_id, amount, sleep)\u001b[0m\n\u001b[0;32m    516\u001b[0m \u001b[39mif\u001b[39;00m \u001b[39mnot\u001b[39;00m sleep:\n\u001b[0;32m    517\u001b[0m     sleep \u001b[39m=\u001b[39m random\u001b[39m.\u001b[39mrandint(\u001b[39m1\u001b[39m, \u001b[39m3\u001b[39m)\n\u001b[1;32m--> 519\u001b[0m medias_page, end_cursor \u001b[39m=\u001b[39m \u001b[39mself\u001b[39;49m\u001b[39m.\u001b[39;49muser_medias_paginated_gql(\n\u001b[0;32m    520\u001b[0m     user_id, amount, sleep, end_cursor\u001b[39m=\u001b[39;49mend_cursor\n\u001b[0;32m    521\u001b[0m )\n\u001b[0;32m    522\u001b[0m medias\u001b[39m.\u001b[39mextend(medias_page)\n\u001b[0;32m    523\u001b[0m \u001b[39mif\u001b[39;00m \u001b[39mnot\u001b[39;00m end_cursor:\n",
      "File \u001b[1;32mc:\\Users\\Erfun\\AppData\\Local\\Programs\\Python\\Python311\\Lib\\site-packages\\instagrapi\\mixins\\media.py:466\u001b[0m, in \u001b[0;36mMediaMixin.user_medias_paginated_gql\u001b[1;34m(self, user_id, amount, sleep, end_cursor)\u001b[0m\n\u001b[0;32m    460\u001b[0m variables \u001b[39m=\u001b[39m {\n\u001b[0;32m    461\u001b[0m     \u001b[39m\"\u001b[39m\u001b[39mid\u001b[39m\u001b[39m\"\u001b[39m: user_id,\n\u001b[0;32m    462\u001b[0m     \u001b[39m\"\u001b[39m\u001b[39mfirst\u001b[39m\u001b[39m\"\u001b[39m: \u001b[39m50\u001b[39m \u001b[39mif\u001b[39;00m \u001b[39mnot\u001b[39;00m amount \u001b[39mor\u001b[39;00m amount \u001b[39m>\u001b[39m \u001b[39m50\u001b[39m \u001b[39melse\u001b[39;00m amount,\n\u001b[0;32m    463\u001b[0m     \u001b[39m# These are Instagram restrictions, you can only specify <= 50\u001b[39;00m\n\u001b[0;32m    464\u001b[0m }\n\u001b[0;32m    465\u001b[0m variables[\u001b[39m\"\u001b[39m\u001b[39mafter\u001b[39m\u001b[39m\"\u001b[39m] \u001b[39m=\u001b[39m end_cursor\n\u001b[1;32m--> 466\u001b[0m data \u001b[39m=\u001b[39m \u001b[39mself\u001b[39;49m\u001b[39m.\u001b[39;49mpublic_graphql_request(\n\u001b[0;32m    467\u001b[0m     variables, query_hash\u001b[39m=\u001b[39;49m\u001b[39m\"\u001b[39;49m\u001b[39me7e2f4da4b02303f74f0841279e52d76\u001b[39;49m\u001b[39m\"\u001b[39;49m\n\u001b[0;32m    468\u001b[0m )\n\u001b[0;32m    469\u001b[0m page_info \u001b[39m=\u001b[39m json_value(\n\u001b[0;32m    470\u001b[0m     data, \u001b[39m\"\u001b[39m\u001b[39muser\u001b[39m\u001b[39m\"\u001b[39m, \u001b[39m\"\u001b[39m\u001b[39medge_owner_to_timeline_media\u001b[39m\u001b[39m\"\u001b[39m, \u001b[39m\"\u001b[39m\u001b[39mpage_info\u001b[39m\u001b[39m\"\u001b[39m, default\u001b[39m=\u001b[39m{}\n\u001b[0;32m    471\u001b[0m )\n\u001b[0;32m    472\u001b[0m edges \u001b[39m=\u001b[39m json_value(\n\u001b[0;32m    473\u001b[0m     data, \u001b[39m\"\u001b[39m\u001b[39muser\u001b[39m\u001b[39m\"\u001b[39m, \u001b[39m\"\u001b[39m\u001b[39medge_owner_to_timeline_media\u001b[39m\u001b[39m\"\u001b[39m, \u001b[39m\"\u001b[39m\u001b[39medges\u001b[39m\u001b[39m\"\u001b[39m, default\u001b[39m=\u001b[39m[]\n\u001b[0;32m    474\u001b[0m )\n",
      "File \u001b[1;32mc:\\Users\\Erfun\\AppData\\Local\\Programs\\Python\\Python311\\Lib\\site-packages\\instagrapi\\mixins\\public.py:216\u001b[0m, in \u001b[0;36mPublicRequestMixin.public_graphql_request\u001b[1;34m(self, variables, query_hash, query_id, data, params, headers)\u001b[0m\n\u001b[0;32m    213\u001b[0m     params \u001b[39m=\u001b[39m default_params\n\u001b[0;32m    215\u001b[0m \u001b[39mtry\u001b[39;00m:\n\u001b[1;32m--> 216\u001b[0m     body_json \u001b[39m=\u001b[39m \u001b[39mself\u001b[39;49m\u001b[39m.\u001b[39;49mpublic_request(\n\u001b[0;32m    217\u001b[0m         \u001b[39mself\u001b[39;49m\u001b[39m.\u001b[39;49mGRAPHQL_PUBLIC_API_URL,\n\u001b[0;32m    218\u001b[0m         data\u001b[39m=\u001b[39;49mdata,\n\u001b[0;32m    219\u001b[0m         params\u001b[39m=\u001b[39;49mparams,\n\u001b[0;32m    220\u001b[0m         headers\u001b[39m=\u001b[39;49mheaders,\n\u001b[0;32m    221\u001b[0m         return_json\u001b[39m=\u001b[39;49m\u001b[39mTrue\u001b[39;49;00m,\n\u001b[0;32m    222\u001b[0m     )\n\u001b[0;32m    224\u001b[0m     \u001b[39mif\u001b[39;00m body_json\u001b[39m.\u001b[39mget(\u001b[39m\"\u001b[39m\u001b[39mstatus\u001b[39m\u001b[39m\"\u001b[39m, \u001b[39mNone\u001b[39;00m) \u001b[39m!=\u001b[39m \u001b[39m\"\u001b[39m\u001b[39mok\u001b[39m\u001b[39m\"\u001b[39m:\n\u001b[0;32m    225\u001b[0m         \u001b[39mraise\u001b[39;00m ClientGraphqlError(\n\u001b[0;32m    226\u001b[0m             \u001b[39m\"\u001b[39m\u001b[39mUnexpected status \u001b[39m\u001b[39m'\u001b[39m\u001b[39m{}\u001b[39;00m\u001b[39m'\u001b[39m\u001b[39m in response. Message: \u001b[39m\u001b[39m'\u001b[39m\u001b[39m{}\u001b[39;00m\u001b[39m'\u001b[39m\u001b[39m\"\u001b[39m\u001b[39m.\u001b[39mformat(\n\u001b[0;32m    227\u001b[0m                 body_json\u001b[39m.\u001b[39mget(\u001b[39m\"\u001b[39m\u001b[39mstatus\u001b[39m\u001b[39m\"\u001b[39m, \u001b[39mNone\u001b[39;00m), body_json\u001b[39m.\u001b[39mget(\u001b[39m\"\u001b[39m\u001b[39mmessage\u001b[39m\u001b[39m\"\u001b[39m, \u001b[39mNone\u001b[39;00m)\n\u001b[0;32m    228\u001b[0m             ),\n\u001b[0;32m    229\u001b[0m             response\u001b[39m=\u001b[39mbody_json,\n\u001b[0;32m    230\u001b[0m         )\n",
      "File \u001b[1;32mc:\\Users\\Erfun\\AppData\\Local\\Programs\\Python\\Python311\\Lib\\site-packages\\instagrapi\\mixins\\public.py:74\u001b[0m, in \u001b[0;36mPublicRequestMixin.public_request\u001b[1;34m(self, url, data, params, headers, return_json, retries_count, retries_timeout)\u001b[0m\n\u001b[0;32m     72\u001b[0m     \u001b[39mif\u001b[39;00m \u001b[39mself\u001b[39m\u001b[39m.\u001b[39mdelay_range:\n\u001b[0;32m     73\u001b[0m         random_delay(delay_range\u001b[39m=\u001b[39m\u001b[39mself\u001b[39m\u001b[39m.\u001b[39mdelay_range)\n\u001b[1;32m---> 74\u001b[0m     \u001b[39mreturn\u001b[39;00m \u001b[39mself\u001b[39;49m\u001b[39m.\u001b[39;49m_send_public_request(url, \u001b[39m*\u001b[39;49m\u001b[39m*\u001b[39;49mkwargs)\n\u001b[0;32m     75\u001b[0m \u001b[39mexcept\u001b[39;00m (\n\u001b[0;32m     76\u001b[0m     ClientLoginRequired,\n\u001b[0;32m     77\u001b[0m     ClientNotFoundError,\n\u001b[0;32m     78\u001b[0m     ClientBadRequestError,\n\u001b[0;32m     79\u001b[0m ) \u001b[39mas\u001b[39;00m e:\n\u001b[0;32m     80\u001b[0m     \u001b[39mraise\u001b[39;00m e  \u001b[39m# Stop retries\u001b[39;00m\n",
      "File \u001b[1;32mc:\\Users\\Erfun\\AppData\\Local\\Programs\\Python\\Python311\\Lib\\site-packages\\instagrapi\\mixins\\public.py:107\u001b[0m, in \u001b[0;36mPublicRequestMixin._send_public_request\u001b[1;34m(self, url, data, params, headers, return_json)\u001b[0m\n\u001b[0;32m    105\u001b[0m     \u001b[39mself\u001b[39m\u001b[39m.\u001b[39mpublic\u001b[39m.\u001b[39mheaders\u001b[39m.\u001b[39mupdate(headers)\n\u001b[0;32m    106\u001b[0m \u001b[39mif\u001b[39;00m \u001b[39mself\u001b[39m\u001b[39m.\u001b[39mrequest_timeout:\n\u001b[1;32m--> 107\u001b[0m     time\u001b[39m.\u001b[39msleep(\u001b[39mself\u001b[39m\u001b[39m.\u001b[39mrequest_timeout)\n\u001b[0;32m    108\u001b[0m \u001b[39mtry\u001b[39;00m:\n\u001b[0;32m    109\u001b[0m     \u001b[39mif\u001b[39;00m data \u001b[39mis\u001b[39;00m \u001b[39mnot\u001b[39;00m \u001b[39mNone\u001b[39;00m:  \u001b[39m# POST\u001b[39;00m\n",
      "\u001b[1;31mKeyboardInterrupt\u001b[0m: "
     ]
    }
   ],
   "source": [
    "\n",
    "run()\n",
    "schedule.every().day.at(\"01:30\").do(run)\n",
    "# Run the scheduled functions\n",
    "while True:\n",
    "    schedule.run_pending()\n",
    "    time.sleep(1)"
   ]
  },
  {
   "cell_type": "code",
   "execution_count": null,
   "metadata": {},
   "outputs": [
    {
     "name": "stdout",
     "output_type": "stream",
     "text": [
      "hello @body how are you @body\n"
     ]
    }
   ],
   "source": [
    "comment = \"hello @the_fitness.body how are you @the_fitness.body\"\n",
    "if '@' in comment:\n",
    "    comment = comment.replace('the_fitness.body', \"body\")\n",
    "print(comment)"
   ]
  },
  {
   "cell_type": "code",
   "execution_count": 26,
   "metadata": {},
   "outputs": [
    {
     "name": "stdout",
     "output_type": "stream",
     "text": [
      "removed aayu.shi20__3063168937320792282.mp4\n",
      "removed fitness._world.___3063254138294388661.webp\n",
      "removed fitness._world.___3063357519864540776.mp4\n",
      "removed fitness._world.___3063408957395137147.webp\n",
      "removed fitness._world.___3063492796050540792.webp\n",
      "removed fitness._world.___3063764974557610317.webp\n",
      "removed fitness._world.___3063796394673626216.mp4\n",
      "removed fitness._world.___3063863815344495713.webp\n",
      "removed fitness._world.___3063921497610934488.webp\n",
      "removed fitness._world.___3063958620958453078.mp4\n",
      "removed fitness._world.___3063961106990537588.webp\n",
      "removed fitness._world.___3064061448222694796.webp\n",
      "removed fitness._world.___3064090962296170377.mp4\n",
      "removed fitness._world.___3064163094051383453.webp\n",
      "removed fitness._world.___3064452502570881468.webp\n",
      "removed fitness._world.___3064505566614835990.webp\n",
      "removed fitness._world.___3064527712983171176.mp4\n",
      "removed fitness._world.___3064659259293424766.webp\n",
      "removed fitness._world.___3064673576816753526.mp4\n",
      "removed fitness._world.___3064711084952296891.webp\n",
      "removed fitness._world.___3064842689016528781.webp\n",
      "removed fitness._world.___3064845079601200439.mp4\n",
      "removed fitness._world.___3064915259963254613.webp\n",
      "removed fitness._world.___3064949741143492470.webp\n",
      "removed fitness._world.___3065205256935311425.webp\n",
      "removed fitness._world.___3065245845095443376.mp4\n",
      "removed fitness._world.___3065280645917517806.webp\n",
      "removed fitness._world.___3065337965787555001.webp\n",
      "removed fitness._world.___3065339106571180627.webp\n",
      "removed fitness._world.___3065388032355500959.webp\n",
      "removed fitness._world.___3065430227337404298.mp4\n",
      "removed fitness._world.___3065473083344842827.webp\n",
      "removed fitness._world.___3065512122869357812.webp\n",
      "removed fitness._world.___3065593730199454036.mp4\n",
      "removed fitness._world.___3065649364371974869.webp\n",
      "removed fitness._world.___3065927550435489637.webp\n",
      "removed fitness._world.___3065998668187687580.mp4\n",
      "removed fitness._world.___3066092118965260026.mp4\n",
      "removed fitness._world.___3066141084100835051.webp\n",
      "removed fitness._world.___3066246565267941366.webp\n",
      "removed fitness._world.___3066299451775646644.mp4\n",
      "removed fitness._world.___3066331025799832295.webp\n",
      "removed fitness._world.___3066359004567340126.webp\n",
      "removed fitness._world.___3066416261254462250.webp\n",
      "removed fitness._world.___3066672282963085224.webp\n",
      "removed fitness._world.___3066721277300653943.mp4\n",
      "removed fitness._world.___3066786519043539020.webp\n",
      "removed fitness._world.___3066820819038420524.mp4\n",
      "removed fitness._world.___3066883059338835164.webp\n",
      "removed fitness._world.___3067026866909450420.mp4\n",
      "removed fitness._world.___3067039704249170190.webp\n",
      "removed fitness._world.___3067060259241182334.webp\n",
      "removed fitness._world.___3067379600302025370.webp\n",
      "removed fitness._world.___3067444006312997460.mp4\n",
      "removed fitness._world.___3067510117127391578.webp\n",
      "removed fitness._world.___3067591115638781524.webp\n",
      "removed fitness._world.___3067616259717193316.mp4\n",
      "removed fitness._world.___3067691075222883164.webp\n",
      "removed fitness._world.___3067775435393408757.webp\n",
      "removed fitness._world.___3067832626825624278.webp\n",
      "removed fitness._world.___3068084376157372936.webp\n",
      "removed fitness._world.___3068168657062340131.mp4\n",
      "removed fitness._world.___3068266332723613693.webp\n",
      "removed fitness._world.___3068322907349082185.mp4\n",
      "removed fitness._world.___3068400089581565650.webp\n",
      "removed fitness._world.___3068465539563383077.mp4\n",
      "removed fitness._world.___3068821373687829046.webp\n",
      "removed fitness._world.___3068892483171133876.webp\n",
      "removed fitness._world.___3068967380630340437.mp4\n",
      "removed fitness._world.___3069100146870188089.webp\n",
      "removed fitness._world.___3069183395705525699.mp4\n",
      "removed fitness._world.___3069183395705525699.mp4.jpg\n",
      "removed fitness._world.___3069246261070248554.webp\n",
      "removed fitness._world.___3069601297881176812.webp\n",
      "removed fitness._world.___3069665279157763331.webp\n",
      "removed fitness._world.___3069707454153514762.mp4\n",
      "removed fitness._world.___3069707454153514762.mp4.jpg\n",
      "removed fitness._world.___3069820655262129734.mp4\n",
      "removed fitness._world.___3069820655262129734.mp4.jpg\n",
      "removed fitness._world.___3069906083856212095.webp\n",
      "removed the_fitness.body_3062216913721334569.mp4\n",
      "removed the_fitness.body_3062216913721334569.mp4.jpg\n",
      "removed the_fitness.body_3062216914929208468.mp4\n",
      "removed the_fitness.body_3062216914929208468.mp4.jpg\n",
      "removed the_fitness.body_3062216914996347449.mp4\n",
      "removed the_fitness.body_3062216914996347449.mp4.jpg\n",
      "removed the_fitness.body_3062216915013266473.mp4\n",
      "removed the_fitness.body_3062216915013266473.mp4.jpg\n",
      "removed the_fitness.body_3062216915986269221.mp4\n",
      "removed the_fitness.body_3062216915986269221.mp4.jpg\n",
      "removed the_fitness.body_3062939875021862590.mp4\n",
      "removed the_fitness.body_3062939875021862590.mp4.jpg\n",
      "removed the_fitness.body_3062939875130892590.mp4\n",
      "removed the_fitness.body_3062939875130892590.mp4.jpg\n",
      "removed the_fitness.body_3062939875407778560.mp4\n",
      "removed the_fitness.body_3062939875407778560.mp4.jpg\n",
      "removed the_fitness.body_3062939876028389937.mp4\n",
      "removed the_fitness.body_3062939876028389937.mp4.jpg\n",
      "removed the_fitness.body_3062939877278479274.mp4\n",
      "removed the_fitness.body_3062939877278479274.mp4.jpg\n",
      "removed the_fitness.body_3063660161169959504.mp4\n",
      "removed the_fitness.body_3063660161169959504.mp4.jpg\n",
      "removed the_fitness.body_3063660161245533734.mp4\n",
      "removed the_fitness.body_3063660161245533734.mp4.jpg\n",
      "removed the_fitness.body_3063660162109532964.mp4\n",
      "removed the_fitness.body_3063660162109532964.mp4.jpg\n",
      "removed the_fitness.body_3063660162361256760.mp4\n",
      "removed the_fitness.body_3063660162361256760.mp4.jpg\n",
      "removed the_fitness.body_3063660162545646495.mp4\n",
      "removed the_fitness.body_3063660162545646495.mp4.jpg\n",
      "removed the_fitness.body_3063660500002593913.mp4\n",
      "removed the_fitness.body_3063660500002593913.mp4.jpg\n",
      "removed the_fitness.body_3063660504482250232.mp4\n",
      "removed the_fitness.body_3063660504482250232.mp4.jpg\n",
      "removed the_fitness.body_3063660511914408337.mp4\n",
      "removed the_fitness.body_3063660511914408337.mp4.jpg\n",
      "removed the_fitness.body_3063660521251137898.mp4\n",
      "removed the_fitness.body_3063660521251137898.mp4.jpg\n",
      "removed the_fitness.body_3063660523557889988.mp4\n",
      "removed the_fitness.body_3063660523557889988.mp4.jpg\n",
      "removed the_fitness.body_3064388830540846185.mp4\n",
      "removed the_fitness.body_3064388830540846185.mp4.jpg\n",
      "removed the_fitness.body_3064388830607954806.mp4\n",
      "removed the_fitness.body_3064388830607954806.mp4.jpg\n",
      "removed the_fitness.body_3064388831052435617.mp4\n",
      "removed the_fitness.body_3064388831052435617.mp4.jpg\n",
      "removed the_fitness.body_3064388831069208088.mp4\n",
      "removed the_fitness.body_3064388831069208088.mp4.jpg\n",
      "removed the_fitness.body_3065094617692971016.mp4\n",
      "removed the_fitness.body_3065094617692971016.mp4.jpg\n",
      "removed the_fitness.body_3065094617995017618.mp4\n",
      "removed the_fitness.body_3065094617995017618.mp4.jpg\n",
      "removed the_fitness.body_3065094618347289207.mp4\n",
      "removed the_fitness.body_3065094618347289207.mp4.jpg\n",
      "removed the_fitness.body_3065094619077037909.mp4\n",
      "removed the_fitness.body_3065094619077037909.mp4.jpg\n",
      "removed the_fitness.body_3065841613387153659.mp4\n",
      "removed the_fitness.body_3065841613387153659.mp4.jpg\n",
      "removed the_fitness.body_3065841613429140215.mp4\n",
      "removed the_fitness.body_3065841613429140215.mp4.jpg\n",
      "removed the_fitness.body_3065841613756285674.mp4\n",
      "removed the_fitness.body_3065841613756285674.mp4.jpg\n",
      "removed the_fitness.body_3065841614754472185.mp4\n",
      "removed the_fitness.body_3065841614754472185.mp4.jpg\n",
      "removed the_fitness.body_3065841616675542871.mp4\n",
      "removed the_fitness.body_3065841616675542871.mp4.jpg\n",
      "removed the_fitness.body_3065841814705360381.mp4\n",
      "removed the_fitness.body_3065841814705360381.mp4.jpg\n",
      "removed the_fitness.body_3067067108510579380.mp4\n",
      "removed the_fitness.body_3067067108510579380.mp4.jpg\n",
      "removed the_fitness.body_3067067108686723113.mp4\n",
      "removed the_fitness.body_3067067108686723113.mp4.jpg\n",
      "removed the_fitness.body_3067067108971887487.mp4\n",
      "removed the_fitness.body_3067067108971887487.mp4.jpg\n",
      "removed the_fitness.body_3067067109450037778.mp4\n",
      "removed the_fitness.body_3067067109450037778.mp4.jpg\n",
      "removed the_fitness.body_3067067110213504172.mp4\n",
      "removed the_fitness.body_3067067110213504172.mp4.jpg\n",
      "removed the_fitness.body_3067987558430408025.mp4\n",
      "removed the_fitness.body_3067987558430408025.mp4.jpg\n",
      "removed the_fitness.body_3067987558967139810.mp4\n",
      "removed the_fitness.body_3067987558967139810.mp4.jpg\n",
      "removed the_fitness.body_3067987559965279083.mp4\n",
      "removed the_fitness.body_3067987559965279083.mp4.jpg\n",
      "removed the_fitness.body_3067987561148057692.mp4\n",
      "removed the_fitness.body_3067987561148057692.mp4.jpg\n",
      "removed the_fitness.body_3067987568261798258.mp4\n",
      "removed the_fitness.body_3067987568261798258.mp4.jpg\n",
      "removed the_fitness.body_3068728425583662969.mp4\n",
      "removed the_fitness.body_3068728425583662969.mp4.jpg\n",
      "removed the_fitness.body_3068728426623729719.mp4\n",
      "removed the_fitness.body_3068728426623729719.mp4.jpg\n",
      "removed the_fitness.body_3068728426791682506.mp4\n",
      "removed the_fitness.body_3068728426791682506.mp4.jpg\n",
      "removed the_fitness.body_3068728426841953622.mp4\n",
      "removed the_fitness.body_3068728426841953622.mp4.jpg\n",
      "removed the_fitness.body_3069405280569478127.mp4\n",
      "removed the_fitness.body_3069405280569478127.mp4.jpg\n",
      "removed the_fitness.body_3069405281030939923.mp4\n",
      "removed the_fitness.body_3069405281030939923.mp4.jpg\n",
      "removed the_fitness.body_3069405281500678595.mp4\n",
      "removed the_fitness.body_3069405281500678595.mp4.jpg\n",
      "removed the_fitness.body_3069405282289081671.mp4\n",
      "removed the_fitness.body_3069405282289081671.mp4.jpg\n",
      "removed the_fitness.body_3069405492230874718.mp4\n",
      "removed the_fitness.body_3069405492230874718.mp4.jpg\n",
      "removed train_with_vidushi_3063150685228291623.mp4\n",
      "removed train_with_vidushi_3063154508168541365.jpg\n",
      "removed train_with_vidushi_3063282636740131211.mp4\n",
      "removed train_with_vidushi_3063526263980849946.mp4\n",
      "removed train_with_vidushi_3063869794910023123.mp4\n"
     ]
    }
   ],
   "source": [
    "remove_all()"
   ]
  },
  {
   "cell_type": "code",
   "execution_count": 25,
   "metadata": {},
   "outputs": [
    {
     "name": "stdout",
     "output_type": "stream",
     "text": [
      "rewriting body_building_gap.pickle\n",
      "body_building_gap.pickle rewritten\n"
     ]
    }
   ],
   "source": [
    "rewrite(users_new)"
   ]
  }
 ],
 "metadata": {
  "kernelspec": {
   "display_name": "Python 3",
   "language": "python",
   "name": "python3"
  },
  "language_info": {
   "codemirror_mode": {
    "name": "ipython",
    "version": 3
   },
   "file_extension": ".py",
   "mimetype": "text/x-python",
   "name": "python",
   "nbconvert_exporter": "python",
   "pygments_lexer": "ipython3",
   "version": "3.11.1"
  },
  "orig_nbformat": 4,
  "vscode": {
   "interpreter": {
    "hash": "a7229a700acc272fe517be910934deac0870d509b3ed4d63f23f2f5b07eaf4d4"
   }
  }
 },
 "nbformat": 4,
 "nbformat_minor": 2
}
